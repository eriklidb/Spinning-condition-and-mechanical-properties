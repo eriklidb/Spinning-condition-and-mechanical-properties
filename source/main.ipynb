{
 "cells": [
  {
   "cell_type": "code",
   "execution_count": 1,
   "metadata": {},
   "outputs": [],
   "source": [
    "import numpy as np\n",
    "import torch\n",
    "import pandas as pd\n",
    "import os\n",
    "from tqdm import tqdm\n",
    "\n",
    "data_dir = os.path.join('..', 'data')"
   ]
  },
  {
   "cell_type": "code",
   "execution_count": 17,
   "metadata": {},
   "outputs": [
    {
     "name": "stdout",
     "output_type": "stream",
     "text": [
      "                             Unnamed: 0     Unnamed: 1 Unnamed: 2  \\\n",
      "0                                   NaN            NaN        NaN   \n",
      "1                            Experiment  Sample number    Protein   \n",
      "2                    Inital Experiments            NaN   NT2repCT   \n",
      "3                    Inital Experiments            NaN   NT2repCT   \n",
      "4                  Reeling speed + salt            NaN   NT2repCT   \n",
      "..                                  ...            ...        ...   \n",
      "732       Spin for Vienna, 70h 70% EtOH           B266       A3IA   \n",
      "733       Spin for Vienna, 70h 70% EtOH           B267       A3IA   \n",
      "734  Control experiment spin for Vienna           B268       A3IA   \n",
      "735  Control experiment spin for Vienna           B269       A3IA   \n",
      "736                 Inital optimization             F1      A3I-A   \n",
      "\n",
      "          Unnamed: 3     Unnamed: 4                   Unnamed: 5  \\\n",
      "0                NaN            NaN                          NaN   \n",
      "1              Batch  Date Purified                       column   \n",
      "2             50IP28         200218  HiTrap Chelating HP 4x20 mL   \n",
      "3             50IP28         200218  HiTrap Chelating HP 4x20 mL   \n",
      "4             50IP28         200218  HiTrap Chelating HP 4x20 mL   \n",
      "..               ...            ...                          ...   \n",
      "732  Testa Center B1       multiple           Capto Chelating 3L   \n",
      "733     Tomas 220722         240508        Capto Chelating 700mL   \n",
      "734     Tomas 220722         240508        Capto Chelating 700mL   \n",
      "735     Tomas 220722         240508        Capto Chelating 700mL   \n",
      "736  Testa Center B1       multiple           Capto Chelating 3L   \n",
      "\n",
      "        Unnamed: 6        weighing mehtod       Unnamed: 8        Unnamed: 9  \\\n",
      "0              NaN      classic pipetting              NaN               NaN   \n",
      "1    Dope prepared  concentration (mg/ml)  Spinning device  Extrusion device   \n",
      "2           200303                    307             Hulk      Syringe pump   \n",
      "3           200303                    307             Hulk      Syringe pump   \n",
      "4           200303                    307             Hulk      Syringe pump   \n",
      "..             ...                    ...              ...               ...   \n",
      "732         240924                    256            Venom      Syringe pump   \n",
      "733         240521                    295            Venom      Syringe pump   \n",
      "734         240521                    295            Venom      Syringe pump   \n",
      "735         240521                    295            Venom      Syringe pump   \n",
      "736         230303                    197            Venom      Syringe Pump   \n",
      "\n",
      "     ... Unnamed: 28    Unnamed: 29     Unnamed: 30     Unnamed: 31  \\\n",
      "0    ...         NaN            NaN             NaN             NaN   \n",
      "1    ...    # fibers  Diameter (µm)  strain (mm/mm)  strength (MPa)   \n",
      "2    ...          20         10.935        0.476163       77.648624   \n",
      "3    ...          20          13.02        0.040561       94.803924   \n",
      "4    ...          20          20.15        0.053089       69.574578   \n",
      "..   ...         ...            ...             ...             ...   \n",
      "732  ...         NaN            NaN             NaN             NaN   \n",
      "733  ...         NaN            NaN             NaN             NaN   \n",
      "734  ...         NaN            NaN             NaN             NaN   \n",
      "735  ...         NaN            NaN             NaN             NaN   \n",
      "736  ...         NaN            NaN             NaN             NaN   \n",
      "\n",
      "              Unnamed: 32         Unnamed: 33  \\\n",
      "0                     NaN                 NaN   \n",
      "1    Youngs Modulus (Gpa)  Toughness (MJ m-3)   \n",
      "2                     NaN           31.066556   \n",
      "3                     NaN            2.258098   \n",
      "4                     NaN            2.271476   \n",
      "..                    ...                 ...   \n",
      "732                   NaN                 NaN   \n",
      "733                   NaN                 NaN   \n",
      "734                   NaN                 NaN   \n",
      "735                   NaN                 NaN   \n",
      "736                   NaN                 NaN   \n",
      "\n",
      "                           Unnamed: 34                         Unnamed: 35  \\\n",
      "0                                  NaN                                 NaN   \n",
      "1    Water Soluble (10 min after spin)  Water Soluble (>7 days after spin)   \n",
      "2                                  yes                                 NaN   \n",
      "3                                  yes                                 NaN   \n",
      "4                                  yes                                 NaN   \n",
      "..                                 ...                                 ...   \n",
      "732                                NaN                                 NaN   \n",
      "733                                NaN                                 NaN   \n",
      "734                                NaN                                 NaN   \n",
      "735                                NaN                                 NaN   \n",
      "736                                NaN                                 NaN   \n",
      "\n",
      "               Unnamed: 36              Unnamed: 37  \n",
      "0                      NaN                      NaN  \n",
      "1    Temp C (tensile test)  Humidity (tensile test)  \n",
      "2                      NaN                      NaN  \n",
      "3                      NaN                      NaN  \n",
      "4                      NaN                      NaN  \n",
      "..                     ...                      ...  \n",
      "732                    NaN                      NaN  \n",
      "733                    NaN                      NaN  \n",
      "734                    NaN                      NaN  \n",
      "735                    NaN                      NaN  \n",
      "736                    NaN                      NaN  \n",
      "\n",
      "[737 rows x 38 columns]\n"
     ]
    }
   ],
   "source": [
    "fp = os.path.join(data_dir, 'Spinning experiments overview.xlsx')\n",
    "df = pd.read_excel(fp)\n",
    "\n",
    "print(df.iloc[:,:])"
   ]
  },
  {
   "cell_type": "code",
   "execution_count": null,
   "metadata": {},
   "outputs": [
    {
     "name": "stderr",
     "output_type": "stream",
     "text": [
      "  9%|▉         | 10/114 [00:18<03:14,  1.87s/it]\n"
     ]
    }
   ],
   "source": [
    "targets = {}\n",
    "dtype = np.float32\n",
    "for fname in tqdm(os.listdir(data_dir)):\n",
    "    if not (fname.endswith(r'.xlsx') and 'all' in fname.lower()):\n",
    "        continue\n",
    "    fp = os.path.join(data_dir, fname)\n",
    "    df = pd.read_excel(fp, 'all')\n",
    "    i = df.columns.get_loc('diameter')\n",
    "    a = df.iloc[0:10, i:i+5].to_numpy(dtype)\n",
    "    assert(not np.isnan(a).any())\n",
    "    assert(a.shape == (10,5))\n",
    "\n",
    "    if fname.split()[1].lower() == 'benjamin':\n",
    "        sample = fname.split()[2].split(r'.')[0]\n",
    "    else:\n",
    "        sample = fname.split()[1].split(r'.')[0]\n",
    "    targets[sample] = a"
   ]
  },
  {
   "cell_type": "code",
   "execution_count": 46,
   "metadata": {},
   "outputs": [
    {
     "name": "stdout",
     "output_type": "stream",
     "text": [
      "dict_keys(['35', '88', '13', '32', '4', 'B127', '45', 'B112', '77', '29'])\n"
     ]
    }
   ],
   "source": [
    "print(targets.keys())"
   ]
  }
 ],
 "metadata": {
  "kernelspec": {
   "display_name": "Python 3",
   "language": "python",
   "name": "python3"
  },
  "language_info": {
   "codemirror_mode": {
    "name": "ipython",
    "version": 3
   },
   "file_extension": ".py",
   "mimetype": "text/x-python",
   "name": "python",
   "nbconvert_exporter": "python",
   "pygments_lexer": "ipython3",
   "version": "3.12.5"
  }
 },
 "nbformat": 4,
 "nbformat_minor": 2
}
