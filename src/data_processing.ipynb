{
 "cells": [
  {
   "cell_type": "code",
   "execution_count": 1,
   "metadata": {},
   "outputs": [],
   "source": [
    "import numpy as np\n",
    "import torch\n",
    "import pandas as pd\n",
    "import os\n",
    "from tqdm import tqdm\n",
    "import h5py\n",
    "from data_processing import *\n",
    "\n",
    "data_dir = os.path.join(os.path.pardir, 'data')\n",
    "dp = DataProcessing()"
   ]
  },
  {
   "cell_type": "code",
   "execution_count": 2,
   "metadata": {},
   "outputs": [
    {
     "ename": "AttributeError",
     "evalue": "'float' object has no attribute 'isnull'",
     "output_type": "error",
     "traceback": [
      "\u001b[1;31m---------------------------------------------------------------------------\u001b[0m",
      "\u001b[1;31mAttributeError\u001b[0m                            Traceback (most recent call last)",
      "Cell \u001b[1;32mIn[2], line 1\u001b[0m\n\u001b[1;32m----> 1\u001b[0m \u001b[43mdp\u001b[49m\u001b[38;5;241;43m.\u001b[39;49m\u001b[43mload_spinning_data_excel\u001b[49m\u001b[43m(\u001b[49m\u001b[43m)\u001b[49m\n",
      "File \u001b[1;32mc:\\Users\\Erik\\Repositories\\Spinning-condition-and-mechanical-properties\\src\\data_processing.py:50\u001b[0m, in \u001b[0;36mDataProcessing.load_spinning_data_excel\u001b[1;34m(self, fname)\u001b[0m\n\u001b[0;32m     47\u001b[0m targets \u001b[38;5;241m=\u001b[39m df\u001b[38;5;241m.\u001b[39miloc[\u001b[38;5;241m2\u001b[39m:, target_inds]\n\u001b[0;32m     49\u001b[0m \u001b[38;5;28;01mfor\u001b[39;00m i, sample \u001b[38;5;129;01min\u001b[39;00m \u001b[38;5;28menumerate\u001b[39m(samples):\n\u001b[1;32m---> 50\u001b[0m     invalid_sample \u001b[38;5;241m=\u001b[39m \u001b[38;5;129;01mnot\u001b[39;00m \u001b[38;5;28mtype\u001b[39m(sample) \u001b[38;5;129;01mis\u001b[39;00m \u001b[38;5;28mfloat\u001b[39m \u001b[38;5;129;01mor\u001b[39;00m \u001b[43msample\u001b[49m\u001b[38;5;241;43m.\u001b[39;49m\u001b[43misnull\u001b[49m()\n\u001b[0;32m     51\u001b[0m     invalid_target \u001b[38;5;241m=\u001b[39m targets\u001b[38;5;241m.\u001b[39miloc[i]\u001b[38;5;241m.\u001b[39misnull()\u001b[38;5;241m.\u001b[39mall()\n\u001b[0;32m     52\u001b[0m     \u001b[38;5;28;01mif\u001b[39;00m invalid_sample \u001b[38;5;129;01mand\u001b[39;00m invalid_target:\n",
      "\u001b[1;31mAttributeError\u001b[0m: 'float' object has no attribute 'isnull'"
     ]
    }
   ],
   "source": [
    "dp.load_spinning_data_excel()"
   ]
  },
  {
   "cell_type": "code",
   "execution_count": 3,
   "metadata": {},
   "outputs": [
    {
     "name": "stdout",
     "output_type": "stream",
     "text": [
      "0 : Experiment\n",
      "1 : Sample number\n",
      "2 : Protein\n",
      "3 : Batch\n",
      "4 : Date Purified\n",
      "5 : column\n",
      "6 : Dope prepared\n",
      "7 : concentration (mg/ml)\n",
      "8 : Spinning device\n",
      "9 : Extrusion device\n",
      "10 : spinning\n",
      "11 : Bath length (cm)\n",
      "12 : Temperature SB\n",
      "13 : Spinning Buffer\n",
      "14 : SB pH\n",
      "15 : SB conc. (mM)\n",
      "16 : NaCl (mM)\n",
      "17 : Capillery size (um)\n",
      "18 : Reeling speed (rpm)\n",
      "19 : Flow rate (ul/min)\n",
      "20 : pumppressure (bar)\n",
      "21 : Post spin treatment\n",
      "22 : Temp C (spinning)\n",
      "23 : Humidity (spinning)\n",
      "24 : Continous spinning\n",
      "25 : Comment\n",
      "26 : fibers prepared\n",
      "27 : mechanical testing date\n",
      "28 : # fibers\n",
      "29 : Diameter (µm)\n",
      "30 : strain (mm/mm)\n",
      "31 : strength (MPa)\n",
      "32 : Youngs Modulus (Gpa)\n",
      "33 : Toughness (MJ m-3)\n",
      "34 : Water Soluble (10 min after spin)\n",
      "35 : Water Soluble (>7 days after spin)\n",
      "36 : Temp C (tensile test)\n",
      "37 : Humidity (tensile test)\n"
     ]
    }
   ],
   "source": [
    "fp = os.path.join(data_dir, 'Spinning experiments overview.xlsx')\n",
    "df = pd.read_excel(fp)\n",
    "\n",
    "#print(df.iloc[:,:])\n",
    "inds_to_cols = list(df.iloc[1])\n",
    "cols_to_inds = {}\n",
    "for col_name in inds_to_cols:\n",
    "    cols_to_inds[col_name] = inds_to_cols.index(col_name)\n",
    "    print(f'{inds_to_cols.index(col_name)} : {col_name}')"
   ]
  },
  {
   "cell_type": "code",
   "execution_count": 4,
   "metadata": {},
   "outputs": [
    {
     "name": "stdout",
     "output_type": "stream",
     "text": [
      "{'Experiment': 0, 'Sample number': 1, 'Protein': 2, 'Batch': 3, 'Date Purified': 4, 'column': 5, 'Dope prepared': 6, 'concentration (mg/ml)': 7, 'Spinning device': 8, 'Extrusion device': 9, 'spinning': 10, 'Bath length (cm)': 11, 'Temperature SB': 12, 'Spinning Buffer': 13, 'SB pH': 14, 'SB conc. (mM)': 15, 'NaCl (mM)': 16, 'Capillery size (um)': 17, 'Reeling speed (rpm)': 18, 'Flow rate (ul/min)': 19, 'pumppressure (bar)': 20, 'Post spin treatment': 21, 'Temp C (spinning)': 22, 'Humidity (spinning)': 23, 'Continous spinning': 24, 'Comment': 25, 'fibers prepared': 26, 'mechanical testing date': 27, '# fibers': 28, 'Diameter (µm)': 29, 'strain (mm/mm)': 30, 'strength (MPa)': 31, 'Youngs Modulus (Gpa)': 32, 'Toughness (MJ m-3)': 33, 'Water Soluble (10 min after spin)': 34, 'Water Soluble (>7 days after spin)': 35, 'Temp C (tensile test)': 36, 'Humidity (tensile test)': 37}\n",
      "['Experiment', 'Sample number', 'Protein', 'Batch', 'Date Purified', 'column', 'Dope prepared', 'concentration (mg/ml)', 'Spinning device', 'Extrusion device', 'spinning', 'Bath length (cm)', 'Temperature SB', 'Spinning Buffer', 'SB pH', 'SB conc. (mM)', 'NaCl (mM)', 'Capillery size (um)', 'Reeling speed (rpm)', 'Flow rate (ul/min)', 'pumppressure (bar)', 'Post spin treatment', 'Temp C (spinning)', 'Humidity (spinning)', 'Continous spinning', 'Comment', 'fibers prepared', 'mechanical testing date', '# fibers', 'Diameter (µm)', 'strain (mm/mm)', 'strength (MPa)', 'Youngs Modulus (Gpa)', 'Toughness (MJ m-3)', 'Water Soluble (10 min after spin)', 'Water Soluble (>7 days after spin)', 'Temp C (tensile test)', 'Humidity (tensile test)']\n"
     ]
    }
   ],
   "source": [
    "print(cols_to_inds)\n",
    "print(inds_to_cols)"
   ]
  },
  {
   "cell_type": "code",
   "execution_count": 5,
   "metadata": {},
   "outputs": [],
   "source": [
    "dp.load_targets()"
   ]
  },
  {
   "cell_type": "markdown",
   "metadata": {},
   "source": [
    "Most samples have 10 measurements of the mechanical properties, but some have 9 instead."
   ]
  },
  {
   "cell_type": "code",
   "execution_count": 6,
   "metadata": {},
   "outputs": [
    {
     "name": "stdout",
     "output_type": "stream",
     "text": [
      "19: (9, 5)\n",
      "38: (9, 5)\n",
      "47: (9, 5)\n",
      "55: (9, 5)\n",
      "67: (9, 5)\n"
     ]
    }
   ],
   "source": [
    "for sample, a in dp.target_dict.items():\n",
    "    if not a.shape == (10,5):\n",
    "        print(f'{sample}: {a.shape}')"
   ]
  }
 ],
 "metadata": {
  "kernelspec": {
   "display_name": "Python 3",
   "language": "python",
   "name": "python3"
  },
  "language_info": {
   "codemirror_mode": {
    "name": "ipython",
    "version": 3
   },
   "file_extension": ".py",
   "mimetype": "text/x-python",
   "name": "python",
   "nbconvert_exporter": "python",
   "pygments_lexer": "ipython3",
   "version": "3.12.6"
  }
 },
 "nbformat": 4,
 "nbformat_minor": 2
}
