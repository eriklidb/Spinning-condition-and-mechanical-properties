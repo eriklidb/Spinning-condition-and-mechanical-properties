{
 "cells": [
  {
   "cell_type": "code",
   "execution_count": 1,
   "metadata": {},
   "outputs": [],
   "source": [
    "from data_processing import DataProcessing"
   ]
  },
  {
   "cell_type": "code",
   "execution_count": null,
   "metadata": {},
   "outputs": [
    {
     "name": "stdout",
     "output_type": "stream",
     "text": [
      "    Sample number   Protein concentration (mg/ml) Spinning device  \\\n",
      "0             NaN  NT2repCT                   307            Hulk   \n",
      "1             NaN  NT2repCT                   307            Hulk   \n",
      "2             NaN  NT2repCT                   307            Hulk   \n",
      "3             NaN  NT2repCT                   300            Hulk   \n",
      "4             NaN  NT2repCT                   300            Hulk   \n",
      "..            ...       ...                   ...             ...   \n",
      "666          B266      A3IA                   256           Venom   \n",
      "667          B267      A3IA                   295           Venom   \n",
      "668          B268      A3IA                   295           Venom   \n",
      "669          B269      A3IA                   295           Venom   \n",
      "670            F1     A3I-A                   197           Venom   \n",
      "\n",
      "    Extrusion device Bath length (cm)  Temperature SB Spinning Buffer SB pH  \\\n",
      "0       Syringe pump               80            22.0    Acetate (Na)     5   \n",
      "1       Syringe pump               80            22.0    Acetate (Na)     5   \n",
      "2       Syringe pump               80            22.0    Acetate (Na)     5   \n",
      "3       Syringe pump               80            22.0    Acetate (Na)     5   \n",
      "4       Syringe pump               80            22.0    Acetate (Na)     5   \n",
      "..               ...              ...             ...             ...   ...   \n",
      "666     Syringe pump            2bath            22.0    Acetate (Na)     5   \n",
      "667     Syringe pump            2bath            22.0    Acetate (Na)     5   \n",
      "668     Syringe pump            2bath            22.0    Acetate (Na)     5   \n",
      "669     Syringe pump            2bath            22.0    Acetate (Na)     5   \n",
      "670     Syringe Pump            2bath            22.0    Acetate (Na)     5   \n",
      "\n",
      "    SB conc. (mM)  ... Diameter (µm)_x strain (mm/mm)_x strength (MPa)_x  \\\n",
      "0             750  ...         10.9350         0.476163        77.648624   \n",
      "1             750  ...         13.0200         0.040561        94.803924   \n",
      "2             750  ...         20.1500         0.053089        69.574578   \n",
      "3             750  ...          7.9118         0.397118       116.477918   \n",
      "4             750  ...          7.9118         0.397118       116.477918   \n",
      "..            ...  ...             ...              ...              ...   \n",
      "666           750  ...             NaN              NaN              NaN   \n",
      "667           750  ...             NaN              NaN              NaN   \n",
      "668           750  ...             NaN              NaN              NaN   \n",
      "669           750  ...             NaN              NaN              NaN   \n",
      "670           750  ...             NaN              NaN              NaN   \n",
      "\n",
      "    Youngs Modulus (Gpa)_x Toughness (MJ m-3)_x Diameter (µm)_y  \\\n",
      "0                      NaN            31.066556             NaN   \n",
      "1                      NaN             2.258098             NaN   \n",
      "2                      NaN             2.271476             NaN   \n",
      "3                      NaN            40.040226             NaN   \n",
      "4                      NaN            40.040226             NaN   \n",
      "..                     ...                  ...             ...   \n",
      "666                    NaN                  NaN             NaN   \n",
      "667                    NaN                  NaN             NaN   \n",
      "668                    NaN                  NaN             NaN   \n",
      "669                    NaN                  NaN             NaN   \n",
      "670                    NaN                  NaN             NaN   \n",
      "\n",
      "    strain (mm/mm)_y strength (MPa)_y  Youngs Modulus (Gpa)_y  \\\n",
      "0                NaN              NaN                     NaN   \n",
      "1                NaN              NaN                     NaN   \n",
      "2                NaN              NaN                     NaN   \n",
      "3                NaN              NaN                     NaN   \n",
      "4                NaN              NaN                     NaN   \n",
      "..               ...              ...                     ...   \n",
      "666              NaN              NaN                     NaN   \n",
      "667              NaN              NaN                     NaN   \n",
      "668              NaN              NaN                     NaN   \n",
      "669              NaN              NaN                     NaN   \n",
      "670              NaN              NaN                     NaN   \n",
      "\n",
      "     Toughness (MJ m-3)_y  \n",
      "0                     NaN  \n",
      "1                     NaN  \n",
      "2                     NaN  \n",
      "3                     NaN  \n",
      "4                     NaN  \n",
      "..                    ...  \n",
      "666                   NaN  \n",
      "667                   NaN  \n",
      "668                   NaN  \n",
      "669                   NaN  \n",
      "670                   NaN  \n",
      "\n",
      "[671 rows x 29 columns]\n"
     ]
    },
    {
     "ename": "KeyError",
     "evalue": "\"None of [Index(['Diameter (µm)', 'strain (mm/mm)', 'strength (MPa)',\\n       'Youngs Modulus (Gpa)', 'Toughness (MJ m-3)'],\\n      dtype='object')] are in the [columns]\"",
     "output_type": "error",
     "traceback": [
      "\u001b[0;31m---------------------------------------------------------------------------\u001b[0m",
      "\u001b[0;31mKeyError\u001b[0m                                  Traceback (most recent call last)",
      "Cell \u001b[0;32mIn[2], line 5\u001b[0m\n\u001b[1;32m      3\u001b[0m dp\u001b[38;5;241m.\u001b[39mdrop_missing_targets(\u001b[38;5;28;01mFalse\u001b[39;00m, \u001b[38;5;28;01mTrue\u001b[39;00m)\n\u001b[1;32m      4\u001b[0m dp\u001b[38;5;241m.\u001b[39mload_targets()\n\u001b[0;32m----> 5\u001b[0m \u001b[43mdp\u001b[49m\u001b[38;5;241;43m.\u001b[39;49m\u001b[43madd_targets\u001b[49m\u001b[43m(\u001b[49m\u001b[43m)\u001b[49m\n\u001b[1;32m      6\u001b[0m dp\u001b[38;5;241m.\u001b[39m_df\n",
      "File \u001b[0;32m~/Repositories/Spinning-condition-and-mechanical-properties/src/data_processing.py:151\u001b[0m, in \u001b[0;36mDataProcessing.add_targets\u001b[0;34m(self)\u001b[0m\n\u001b[1;32m    149\u001b[0m \u001b[38;5;28mself\u001b[39m\u001b[38;5;241m.\u001b[39m_df \u001b[38;5;241m=\u001b[39m \u001b[38;5;28mself\u001b[39m\u001b[38;5;241m.\u001b[39m_df\u001b[38;5;241m.\u001b[39mmerge(\u001b[38;5;28mself\u001b[39m\u001b[38;5;241m.\u001b[39m_targets_df, \u001b[38;5;124m'\u001b[39m\u001b[38;5;124mleft\u001b[39m\u001b[38;5;124m'\u001b[39m, \u001b[38;5;28mself\u001b[39m\u001b[38;5;241m.\u001b[39m_sample_column)\n\u001b[1;32m    150\u001b[0m \u001b[38;5;28mprint\u001b[39m(\u001b[38;5;28mself\u001b[39m\u001b[38;5;241m.\u001b[39m_df)\n\u001b[0;32m--> 151\u001b[0m \u001b[38;5;28;43mself\u001b[39;49m\u001b[38;5;241;43m.\u001b[39;49m\u001b[43mdrop_missing_targets\u001b[49m\u001b[43m(\u001b[49m\u001b[38;5;28;43;01mTrue\u001b[39;49;00m\u001b[43m)\u001b[49m\n",
      "File \u001b[0;32m~/Repositories/Spinning-condition-and-mechanical-properties/src/data_processing.py:85\u001b[0m, in \u001b[0;36mDataProcessing.drop_missing_targets\u001b[0;34m(self, drop_named_samples, allow_partially_missing_targets)\u001b[0m\n\u001b[1;32m     83\u001b[0m     cond \u001b[38;5;241m=\u001b[39m \u001b[38;5;28mself\u001b[39m\u001b[38;5;241m.\u001b[39m_df[\u001b[38;5;28mself\u001b[39m\u001b[38;5;241m.\u001b[39m_targets_columns]\u001b[38;5;241m.\u001b[39misnull()\u001b[38;5;241m.\u001b[39mall(axis\u001b[38;5;241m=\u001b[39m\u001b[38;5;241m1\u001b[39m)\n\u001b[1;32m     84\u001b[0m \u001b[38;5;28;01melse\u001b[39;00m:\n\u001b[0;32m---> 85\u001b[0m     cond \u001b[38;5;241m=\u001b[39m \u001b[38;5;28;43mself\u001b[39;49m\u001b[38;5;241;43m.\u001b[39;49m\u001b[43m_df\u001b[49m\u001b[43m[\u001b[49m\u001b[38;5;28;43mself\u001b[39;49m\u001b[38;5;241;43m.\u001b[39;49m\u001b[43m_targets_columns\u001b[49m\u001b[43m]\u001b[49m\u001b[38;5;241m.\u001b[39misnull()\u001b[38;5;241m.\u001b[39many(axis\u001b[38;5;241m=\u001b[39m\u001b[38;5;241m1\u001b[39m)\n\u001b[1;32m     86\u001b[0m \u001b[38;5;28;01mif\u001b[39;00m \u001b[38;5;129;01mnot\u001b[39;00m drop_named_samples:\n\u001b[1;32m     87\u001b[0m     cond \u001b[38;5;241m&\u001b[39m\u001b[38;5;241m=\u001b[39m \u001b[38;5;28mself\u001b[39m\u001b[38;5;241m.\u001b[39m_df[\u001b[38;5;28mself\u001b[39m\u001b[38;5;241m.\u001b[39m_sample_column]\u001b[38;5;241m.\u001b[39misnull() \n",
      "File \u001b[0;32m/usr/lib/python3.13/site-packages/pandas/core/frame.py:4108\u001b[0m, in \u001b[0;36mDataFrame.__getitem__\u001b[0;34m(self, key)\u001b[0m\n\u001b[1;32m   4106\u001b[0m     \u001b[38;5;28;01mif\u001b[39;00m is_iterator(key):\n\u001b[1;32m   4107\u001b[0m         key \u001b[38;5;241m=\u001b[39m \u001b[38;5;28mlist\u001b[39m(key)\n\u001b[0;32m-> 4108\u001b[0m     indexer \u001b[38;5;241m=\u001b[39m \u001b[38;5;28;43mself\u001b[39;49m\u001b[38;5;241;43m.\u001b[39;49m\u001b[43mcolumns\u001b[49m\u001b[38;5;241;43m.\u001b[39;49m\u001b[43m_get_indexer_strict\u001b[49m\u001b[43m(\u001b[49m\u001b[43mkey\u001b[49m\u001b[43m,\u001b[49m\u001b[43m \u001b[49m\u001b[38;5;124;43m\"\u001b[39;49m\u001b[38;5;124;43mcolumns\u001b[39;49m\u001b[38;5;124;43m\"\u001b[39;49m\u001b[43m)\u001b[49m[\u001b[38;5;241m1\u001b[39m]\n\u001b[1;32m   4110\u001b[0m \u001b[38;5;66;03m# take() does not accept boolean indexers\u001b[39;00m\n\u001b[1;32m   4111\u001b[0m \u001b[38;5;28;01mif\u001b[39;00m \u001b[38;5;28mgetattr\u001b[39m(indexer, \u001b[38;5;124m\"\u001b[39m\u001b[38;5;124mdtype\u001b[39m\u001b[38;5;124m\"\u001b[39m, \u001b[38;5;28;01mNone\u001b[39;00m) \u001b[38;5;241m==\u001b[39m \u001b[38;5;28mbool\u001b[39m:\n",
      "File \u001b[0;32m/usr/lib/python3.13/site-packages/pandas/core/indexes/base.py:6200\u001b[0m, in \u001b[0;36mIndex._get_indexer_strict\u001b[0;34m(self, key, axis_name)\u001b[0m\n\u001b[1;32m   6197\u001b[0m \u001b[38;5;28;01melse\u001b[39;00m:\n\u001b[1;32m   6198\u001b[0m     keyarr, indexer, new_indexer \u001b[38;5;241m=\u001b[39m \u001b[38;5;28mself\u001b[39m\u001b[38;5;241m.\u001b[39m_reindex_non_unique(keyarr)\n\u001b[0;32m-> 6200\u001b[0m \u001b[38;5;28;43mself\u001b[39;49m\u001b[38;5;241;43m.\u001b[39;49m\u001b[43m_raise_if_missing\u001b[49m\u001b[43m(\u001b[49m\u001b[43mkeyarr\u001b[49m\u001b[43m,\u001b[49m\u001b[43m \u001b[49m\u001b[43mindexer\u001b[49m\u001b[43m,\u001b[49m\u001b[43m \u001b[49m\u001b[43maxis_name\u001b[49m\u001b[43m)\u001b[49m\n\u001b[1;32m   6202\u001b[0m keyarr \u001b[38;5;241m=\u001b[39m \u001b[38;5;28mself\u001b[39m\u001b[38;5;241m.\u001b[39mtake(indexer)\n\u001b[1;32m   6203\u001b[0m \u001b[38;5;28;01mif\u001b[39;00m \u001b[38;5;28misinstance\u001b[39m(key, Index):\n\u001b[1;32m   6204\u001b[0m     \u001b[38;5;66;03m# GH 42790 - Preserve name from an Index\u001b[39;00m\n",
      "File \u001b[0;32m/usr/lib/python3.13/site-packages/pandas/core/indexes/base.py:6249\u001b[0m, in \u001b[0;36mIndex._raise_if_missing\u001b[0;34m(self, key, indexer, axis_name)\u001b[0m\n\u001b[1;32m   6247\u001b[0m \u001b[38;5;28;01mif\u001b[39;00m nmissing:\n\u001b[1;32m   6248\u001b[0m     \u001b[38;5;28;01mif\u001b[39;00m nmissing \u001b[38;5;241m==\u001b[39m \u001b[38;5;28mlen\u001b[39m(indexer):\n\u001b[0;32m-> 6249\u001b[0m         \u001b[38;5;28;01mraise\u001b[39;00m \u001b[38;5;167;01mKeyError\u001b[39;00m(\u001b[38;5;124mf\u001b[39m\u001b[38;5;124m\"\u001b[39m\u001b[38;5;124mNone of [\u001b[39m\u001b[38;5;132;01m{\u001b[39;00mkey\u001b[38;5;132;01m}\u001b[39;00m\u001b[38;5;124m] are in the [\u001b[39m\u001b[38;5;132;01m{\u001b[39;00maxis_name\u001b[38;5;132;01m}\u001b[39;00m\u001b[38;5;124m]\u001b[39m\u001b[38;5;124m\"\u001b[39m)\n\u001b[1;32m   6251\u001b[0m     not_found \u001b[38;5;241m=\u001b[39m \u001b[38;5;28mlist\u001b[39m(ensure_index(key)[missing_mask\u001b[38;5;241m.\u001b[39mnonzero()[\u001b[38;5;241m0\u001b[39m]]\u001b[38;5;241m.\u001b[39munique())\n\u001b[1;32m   6252\u001b[0m     \u001b[38;5;28;01mraise\u001b[39;00m \u001b[38;5;167;01mKeyError\u001b[39;00m(\u001b[38;5;124mf\u001b[39m\u001b[38;5;124m\"\u001b[39m\u001b[38;5;132;01m{\u001b[39;00mnot_found\u001b[38;5;132;01m}\u001b[39;00m\u001b[38;5;124m not in index\u001b[39m\u001b[38;5;124m\"\u001b[39m)\n",
      "\u001b[0;31mKeyError\u001b[0m: \"None of [Index(['Diameter (µm)', 'strain (mm/mm)', 'strength (MPa)',\\n       'Youngs Modulus (Gpa)', 'Toughness (MJ m-3)'],\\n      dtype='object')] are in the [columns]\""
     ]
    }
   ],
   "source": [
    "dp = DataProcessing()\n",
    "dp.load_spinning_experiments_excel()\n",
    "dp.drop_missing_targets()\n",
    "dp.load_targets()\n",
    "dp.merge_targets()\n",
    "dp._df"
   ]
  },
  {
   "cell_type": "markdown",
   "metadata": {},
   "source": [
    "Most samples have 10 measurements of the mechanical properties, but some have 9 instead."
   ]
  },
  {
   "cell_type": "code",
   "execution_count": 3,
   "metadata": {},
   "outputs": [
    {
     "ename": "AttributeError",
     "evalue": "'DataProcessing' object has no attribute '_target_dict'",
     "output_type": "error",
     "traceback": [
      "\u001b[0;31m---------------------------------------------------------------------------\u001b[0m",
      "\u001b[0;31mAttributeError\u001b[0m                            Traceback (most recent call last)",
      "Cell \u001b[0;32mIn[3], line 1\u001b[0m\n\u001b[0;32m----> 1\u001b[0m \u001b[38;5;28;01mfor\u001b[39;00m sample, a \u001b[38;5;129;01min\u001b[39;00m \u001b[43mdp\u001b[49m\u001b[38;5;241;43m.\u001b[39;49m\u001b[43mtarget_dict\u001b[49m\u001b[38;5;241m.\u001b[39mitems():\n\u001b[1;32m      2\u001b[0m     \u001b[38;5;28;01mif\u001b[39;00m \u001b[38;5;129;01mnot\u001b[39;00m a\u001b[38;5;241m.\u001b[39mshape \u001b[38;5;241m==\u001b[39m (\u001b[38;5;241m10\u001b[39m,\u001b[38;5;241m5\u001b[39m):\n\u001b[1;32m      3\u001b[0m         \u001b[38;5;28mprint\u001b[39m(\u001b[38;5;124mf\u001b[39m\u001b[38;5;124m'\u001b[39m\u001b[38;5;132;01m{\u001b[39;00msample\u001b[38;5;132;01m}\u001b[39;00m\u001b[38;5;124m: \u001b[39m\u001b[38;5;132;01m{\u001b[39;00ma\u001b[38;5;241m.\u001b[39mshape\u001b[38;5;132;01m}\u001b[39;00m\u001b[38;5;124m'\u001b[39m)\n",
      "File \u001b[0;32m~/Repositories/Spinning-condition-and-mechanical-properties/src/data_processing.py:63\u001b[0m, in \u001b[0;36mDataProcessing.target_dict\u001b[0;34m(self)\u001b[0m\n\u001b[1;32m     61\u001b[0m \u001b[38;5;129m@property\u001b[39m\n\u001b[1;32m     62\u001b[0m \u001b[38;5;28;01mdef\u001b[39;00m\u001b[38;5;250m \u001b[39m\u001b[38;5;21mtarget_dict\u001b[39m(\u001b[38;5;28mself\u001b[39m) \u001b[38;5;241m-\u001b[39m\u001b[38;5;241m>\u001b[39m \u001b[38;5;28mdict\u001b[39m[\u001b[38;5;28mstr\u001b[39m, np\u001b[38;5;241m.\u001b[39mndarray[np\u001b[38;5;241m.\u001b[39mdtype]]:\n\u001b[0;32m---> 63\u001b[0m     \u001b[38;5;28;01mreturn\u001b[39;00m \u001b[38;5;28;43mself\u001b[39;49m\u001b[38;5;241;43m.\u001b[39;49m\u001b[43m_target_dict\u001b[49m\n",
      "\u001b[0;31mAttributeError\u001b[0m: 'DataProcessing' object has no attribute '_target_dict'"
     ]
    }
   ],
   "source": [
    "for sample, a in dp.target_dict.items():\n",
    "    if not a.shape == (10,5):\n",
    "        print(f'{sample}: {a.shape}')"
   ]
  }
 ],
 "metadata": {
  "kernelspec": {
   "display_name": "Python 3",
   "language": "python",
   "name": "python3"
  },
  "language_info": {
   "codemirror_mode": {
    "name": "ipython",
    "version": 3
   },
   "file_extension": ".py",
   "mimetype": "text/x-python",
   "name": "python",
   "nbconvert_exporter": "python",
   "pygments_lexer": "ipython3",
   "version": "3.13.2"
  }
 },
 "nbformat": 4,
 "nbformat_minor": 2
}
